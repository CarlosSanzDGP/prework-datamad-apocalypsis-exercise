{
 "cells": [
  {
   "cell_type": "code",
   "execution_count": 2,
   "metadata": {},
   "outputs": [],
   "source": [
    "armas = ['pistola','escopeta']\n",
    "\n",
    "cargadores = {\n",
    "    'pistola': [10, 10], \n",
    "    'escopeta': [2, 2, 2, 2, 2]\n",
    "}\n",
    "#crear una funcion que de cada elemento en la lista armas chequee si existe en el diccionario Cargadores.\n",
    "#si existe, que sume los valores de las listas que hay en el diccionario y lo sume\n",
    "#imprima la suma total q puede ser smashedzombies = 0\n",
    "# escribir con format algo como \"Puedes matar (total) zombies antes de salir corriendo. (x) con la pistola, (y) con la escopeta y blablabla\""
   ]
  },
  {
   "cell_type": "code",
   "execution_count": 10,
   "metadata": {},
   "outputs": [
    {
     "name": "stdout",
     "output_type": "stream",
     "text": [
      "20\n",
      "10\n"
     ]
    }
   ],
   "source": [
    "###codigo basico\n",
    "for arma in armas:\n",
    "    if arma in cargadores:\n",
    "        print (sum(cargadores[arma]))\n",
    "\n"
   ]
  },
  {
   "cell_type": "code",
   "execution_count": 11,
   "metadata": {},
   "outputs": [
    {
     "name": "stdout",
     "output_type": "stream",
     "text": [
      "30\n"
     ]
    }
   ],
   "source": [
    "smash_zombies = 0\n",
    "for arma in armas:\n",
    "    if arma in cargadores:\n",
    "        smash_zombies += (sum(cargadores[arma]))\n",
    "print(smash_zombies)"
   ]
  },
  {
   "cell_type": "code",
   "execution_count": null,
   "metadata": {},
   "outputs": [],
   "source": []
  }
 ],
 "metadata": {
  "kernelspec": {
   "display_name": "Python 3",
   "language": "python",
   "name": "python3"
  },
  "language_info": {
   "codemirror_mode": {
    "name": "ipython",
    "version": 3
   },
   "file_extension": ".py",
   "mimetype": "text/x-python",
   "name": "python",
   "nbconvert_exporter": "python",
   "pygments_lexer": "ipython3",
   "version": "3.6.9"
  }
 },
 "nbformat": 4,
 "nbformat_minor": 4
}
